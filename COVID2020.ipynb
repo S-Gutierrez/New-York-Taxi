{
 "cells": [
  {
   "cell_type": "code",
   "execution_count": null,
   "metadata": {},
   "outputs": [],
   "source": [
    "import pandas as pd\n",
    "import numpy as np\n",
    "import datetime\n",
    "from sodapy import Socrata\n",
    "import seaborn as sns\n",
    "import matplotlib.pyplot as plt\n",
    "import plotly.express as px\n",
    "from plotly.subplots import make_subplots\n",
    "import plotly.graph_objects as go\n",
    "from matplotlib.ticker import PercentFormatter\n",
    "import random\n",
    "import os\n",
    "import folium \n",
    "from folium.plugins import *\n",
    "from bokeh.io import output_notebook, show\n",
    "from bokeh.models import ColumnDataSource, FactorRange, Legend\n",
    "from bokeh.plotting import figure\n",
    "from bokeh import palettes\n",
    "\n",
    "path='../project/'\n",
    "sns.set(color_codes=True)\n",
    "%matplotlib inline"
   ]
  },
  {
   "cell_type": "markdown",
   "metadata": {},
   "source": [
    "The socrata client down below pulls the information from the original source. The dataset is quite big (2.0GB) but a fraction of it can be rapidly requested for testing."
   ]
  },
  {
   "cell_type": "code",
   "execution_count": null,
   "metadata": {},
   "outputs": [],
   "source": [
    "#!/usr/bin/env python\n",
    "\n",
    "# Unauthenticated client only works with public data sets. Note 'None'\n",
    "# in place of application token, and no username or password:\n",
    "client = Socrata(\"data.cityofnewyork.us\", None)\n",
    "\n",
    "# Example authenticated client (needed for non-public datasets):\n",
    "# My username, password and token of my Socrata client, don't steal it please D:\n",
    "client = Socrata(\"data.cityofnewyork.us\",\n",
    "                 \"Hi16i3SK4y2UNiONqpKz4IROh\",\n",
    "                 username=\"******************",\n",
    "                 password=\"******************",\n",
    "                 timeout=12000)\n",
    "\n",
    "# First 2000 results, returned as JSON from API / converted to Python list of\n",
    "# dictionaries by sodapy.\n",
    "results_2020 = client.get(\"kxp8-n2sj\", limit=20000)"
   ]
  },
  {
   "cell_type": "code",
   "execution_count": null,
   "metadata": {},
   "outputs": [],
   "source": [
    "# Convert to pandas DataFrame\n",
    "#df_2020 = pd.read_csv(\"..\\Downloads\\\\2020_Yellow_Taxi_Trip_Data.csv\")"
   ]
  },
  {
   "cell_type": "code",
   "execution_count": null,
   "metadata": {},
   "outputs": [],
   "source": [
    "\"\"\" Quick data preprocessing concerning types and other useful columns\"\"\"\n",
    "def df_process(df_taxi):\n",
    "    df_taxi['tpep_pickup_datetime'] = pd.to_datetime(df_taxi['tpep_pickup_datetime'],format = \"%m/%d/%Y %I:%M:%S %p\")\n",
    "    #split date/time column\n",
    "    df_taxi['tpep_pickup_datetime'] = pd.to_datetime(df_taxi['tpep_pickup_datetime'].copy())        \n",
    "    df_taxi['Year'] = df_taxi['tpep_pickup_datetime'].dt.year\n",
    "    df_taxi['Month'] = df_taxi['tpep_pickup_datetime'].dt.month\n",
    "    df_taxi['MonthDay'] = df_taxi['tpep_pickup_datetime'].dt.day\n",
    "    df_taxi['DayOfWeek'] = df_taxi['tpep_pickup_datetime'].dt.dayofweek\n",
    "    df_taxi['HourOfDay'] = df_taxi['tpep_pickup_datetime'].dt.hour\n",
    "    df_taxi[\"HourOfWeek\"] = (df_taxi[\"DayOfWeek\"]*24 )+df_taxi[\"HourOfDay\"].astype(float)\n",
    "    df_taxi[\"date\"] = df_taxi['tpep_pickup_datetime'].dt.date\n",
    "    \n",
    "    \n",
    "    float_cols = [\"trip_distance\", \"total_amount\"]\n",
    "    for i in float_cols:\n",
    "        df_taxi[i] = df_taxi[i].astype(\"float32\")\n",
    "    "
   ]
  },
  {
   "cell_type": "code",
   "execution_count": null,
   "metadata": {},
   "outputs": [],
   "source": [
    "df_process(df_2020)\n",
    "df_2020 = df_2020[df_2020[\"Year\"]==2020]\n",
    "df_2020_perday = df_2020.groupby(\"date\",as_index=False).count()[[\"date\", \"RatecodeID\"]]\n",
    "df_2020_perday.columns = [\"date\", \"counts\"]\n",
    "df_2020_perday[\"date\"] = pd.to_datetime(df_2020_perday[\"date\"])\n",
    "taxi_count = df_2020_perday[\"counts\"].sum()\n",
    "\n",
    "df_2020_perday[\"counts\"].sum()\n",
    "\n",
    "## COVID cases dataset\n",
    "df_covid = pd.read_csv(\"https://raw.githubusercontent.com/nychealth/coronavirus-data/master/trends/antibody-by-week.csv\")\n",
    "df_covid[\"week_ending\"]=pd.to_datetime(df_covid['week_ending'],format = '%m/%d/%Y').dt.date"
   ]
  },
  {
   "cell_type": "markdown",
   "metadata": {},
   "source": [
    "# COVID breakout"
   ]
  },
  {
   "cell_type": "markdown",
   "metadata": {},
   "source": [
    "On March 1st the first case of COVID-19 in New York City was confirmed. On March 12th all gatherings of more than 500 are ordered to shut down. From this point forward, schools and workplaces shutdowns followed. By the end of the month NYC was under complete lockdown."
   ]
  },
  {
   "cell_type": "code",
   "execution_count": null,
   "metadata": {},
   "outputs": [],
   "source": [
    "## First COVID19 case in NYC\n",
    "firstcase = df_2020_perday[(df_2020_perday[\"date\"].dt.month==3) & (df_2020_perday[\"date\"].dt.day==4)]\n",
    "## NYC lockdown\n",
    "lockdown = df_2020_perday[(df_2020_perday[\"date\"].dt.month==3) & (df_2020_perday[\"date\"].dt.day==12)]\n",
    "\n",
    "fig = go.Figure()\n",
    "# hovertemplate option on Plotly allows inputing details on demand concerning plotted data\n",
    "fig.add_trace(go.Scatter(x=df_2020_perday[\"date\"], y=df_2020_perday[\"counts\"],\n",
    "                    mode='lines', name=\"Taxi Pickups\",line=dict(color=\"#FFBF00\"), hovertemplate =\n",
    "    '<br><b>Date</b>: %{x}<br><b>Taxi pickups</b>: %{y}'))\n",
    "## Special days\n",
    "fig.add_trace(go.Scatter(x=firstcase[\"date\"], y=firstcase[\"counts\"], hovertemplate =\n",
    "    '<br><b>Date</b>: %{x}<br>',\n",
    "                    line=dict(color='red', width=5, dash='dot'), name=\"First registered COVID-19 case in NYC\", mode=\"markers\"))\n",
    "fig.add_trace(go.Scatter(x=lockdown[\"date\"], y=lockdown[\"counts\"],hovertemplate =\n",
    "    '<br><b>Date</b>: %{x}<br>',\n",
    "                    line=dict(color='red', width=5, dash='dot'), name=\"Gatherings shutdown\", mode=\"markers\"))\n",
    "\n",
    "\n",
    "fig.update_layout(height=500, width=800,\n",
    "                  showlegend=False, yaxis_title=\"Daily trips\")\n",
    "fig.update_layout(plot_bgcolor=\"#f3f3fb\")\n",
    "fig.update_layout(paper_bgcolor=\"#f4f4f4\")\n",
    "fig.show()"
   ]
  },
  {
   "cell_type": "code",
   "execution_count": null,
   "metadata": {},
   "outputs": [],
   "source": [
    "fig.write_html(\"pickupsdrop.html\")"
   ]
  },
  {
   "cell_type": "markdown",
   "metadata": {},
   "source": [
    "After NYC lockdown the number of daily pickups drastically drop but it kept following it seasonal behaviour, reaching minimums on Sundays. "
   ]
  },
  {
   "cell_type": "code",
   "execution_count": null,
   "metadata": {},
   "outputs": [],
   "source": [
    "## We will include march in the Pre-COVID months\n",
    "df_2020_dayofweek_b = df_2020[df_2020[\"Month\"]<4].groupby(\"DayOfWeek\",as_index=False).count()[[\"DayOfWeek\", \"RatecodeID\"]]\n",
    "df_2020_dayofweek_b.columns = [\"date\", \"counts\"]\n",
    "## After COVID brekout\n",
    "df_2020_dayofweek_a = df_2020[df_2020[\"Month\"]>3].groupby(\"DayOfWeek\",as_index=False).count()[[\"DayOfWeek\", \"RatecodeID\"]]\n",
    "df_2020_dayofweek_a.columns = [\"date\", \"counts\"]\n",
    "\n",
    "df_2020_dayofweek_a.date = [\"Mon\", \"Tues\", \"Wed\", \"Thur\", \"Fri\", \"Sat\", \"Sun\"]\n",
    "df_2020_dayofweek_b.date = [\"Mon\", \"Tues\", \"Wed\", \"Thur\", \"Fri\", \"Sat\", \"Sun\"]"
   ]
  },
  {
   "cell_type": "code",
   "execution_count": null,
   "metadata": {},
   "outputs": [],
   "source": [
    "fig = go.Figure()\n",
    "fig.add_trace(go.Bar(x=df_2020_dayofweek_b[\"date\"],y=df_2020_dayofweek_b[\"counts\"],\n",
    "                     name=\"Before lockdown\", marker_color=\"#FFBF00\", width=0.35,\n",
    "                     opacity=0.8, hovertemplate='<b>Day: </b> %{x}<br>Pickups: </b> %{y}'))\n",
    "fig.add_trace(go.Bar(x=df_2020_dayofweek_a[\"date\"],y=df_2020_dayofweek_a[\"counts\"],\n",
    "                    name=\"After lockdown\", marker_color=\"#50C878\",width=0.35,\n",
    "                     opacity=0.8, hovertemplate='<b>Day: </b> %{x}<br>Pickups: </b> %{y}'))\n",
    "fig.update_layout(yaxis_title=\"Taxi trips\")\n",
    "fig.update_layout(plot_bgcolor=\"#f3f3fb\")\n",
    "fig.update_layout(height=500, width=800)\n",
    "fig.update_layout(paper_bgcolor=\"#f4f4f4\")\n",
    "\n",
    "fig.show()"
   ]
  },
  {
   "cell_type": "code",
   "execution_count": null,
   "metadata": {},
   "outputs": [],
   "source": [
    "fig.write_html(\"dailycovid.html\")"
   ]
  },
  {
   "cell_type": "markdown",
   "metadata": {},
   "source": [
    "We can observe a similar behaviour if we take a look at the number of passengers per trip evolution. The most common one has always been 1 passenger trips. After the lockdown, the overall number of daily trips dropped and it is curious how multipassenger trips were specially affected. The number of daily trips with 2 or more passengers dropped to near 0 for all the pandemic, remaining 1 passenger trips as the most common. \n",
    "\n",
    "After summer, the number of COVIS19 cases severely decreased and as the pandemic slowed down so did increase the number of individual taxi pickups. Specially the trips with 2 passengers started increasing noticeably again. It looked like the population was relaxing their scepticism towards sharing close up spaces."
   ]
  },
  {
   "cell_type": "code",
   "execution_count": null,
   "metadata": {
    "scrolled": false
   },
   "outputs": [],
   "source": [
    "df_2020[\"passenger_count\"] = df_2020[\"passenger_count\"].astype(\"float\")\n",
    "\n",
    "df_passengers=df_2020.groupby([\"date\",\"passenger_count\"], as_index=False).count()[[\"date\", \"passenger_count\", \"VendorID\"]]\n",
    "df_passengers.columns = [\"date\",\"passenger_count\",\"counts\"]\n",
    "\n",
    "fig = go.Figure()\n",
    "fig.add_trace(go.Scatter(x=df_passengers[df_passengers[\"passenger_count\"]==1][\"date\"], y=df_passengers[df_passengers[\"passenger_count\"]==1][\"counts\"],\n",
    "                    mode='lines', name=\"1 passenger trips\",line =dict(color=\"#FFBF00\"), hovertemplate =\n",
    "    '<b></b> %{y}'))\n",
    "fig.add_trace(go.Scatter(x=df_passengers[df_passengers[\"passenger_count\"]==2][\"date\"], y=df_passengers[df_passengers[\"passenger_count\"]==2][\"counts\"],\n",
    "                    mode='lines', name=\"2 passengers trips\",line =dict(color=\"#ffd865\"), hovertemplate =\n",
    "    '<b></b> %{y}'))\n",
    "fig.add_trace(go.Scatter(x=df_passengers[df_passengers[\"passenger_count\"]>2][\"date\"], y=df_passengers[df_passengers[\"passenger_count\"]>2][\"counts\"],\n",
    "                    mode='lines', name=\">2 passengers trips\",hovertemplate =\n",
    "    '<b></b> %{y}',line =dict(color=\"#967000\")))\n",
    "\n",
    "fig.add_trace(go.Scatter(x=df_covid[\"week_ending\"], y=df_covid[\"NUM_PEOP_POS\"],\n",
    "                    mode='lines+markers', name=\"COVID-19 confirmed cases\", yaxis=\"y2\",hovertemplate =\n",
    "    '<b></b> %{y}',line =dict(color=\"#32cd32\")))\n",
    "\n",
    "## Creates the second green yaxis\n",
    "fig.update_layout(height=500, width=800,  showlegend=True,\n",
    "                  yaxis=dict(\n",
    "        title=\"Daily trips\",\n",
    "        titlefont=dict(\n",
    "            color=\"#1f77b4\"\n",
    "        ),\n",
    "        tickfont=dict(\n",
    "            color=\"#1f77b4\"\n",
    "        )),\n",
    "                yaxis2=dict(\n",
    "        title=\"Confirmed COVID-19 cases in NYC\",\n",
    "        titlefont=dict(\n",
    "            color=\"#32cd32\"\n",
    "        ),\n",
    "        tickfont=dict(\n",
    "            color=\"#32cd32\"\n",
    "        ),\n",
    "        anchor=\"x\",\n",
    "        overlaying=\"y\",\n",
    "        side=\"right\"\n",
    "        ))         \n",
    "fig.update_xaxes(range=(\"2020-01-01\",\"2020-12-31\"))\n",
    "\n",
    "## Unifies all the displayed data x axis to create the vetical dotted line with all the information\n",
    "fig.update_layout(hovermode='x unified', height=500, width=800,\n",
    "                 legend=dict(\n",
    "        x=0.673,\n",
    "        y=1,\n",
    "        traceorder='normal',\n",
    "        font=dict(\n",
    "            size=12),)) \n",
    "fig.update_layout(plot_bgcolor=\"#f3f3fb\")\n",
    "fig.update_layout(paper_bgcolor=\"#f4f4f4\")\n",
    "\n",
    "fig.show()"
   ]
  },
  {
   "cell_type": "code",
   "execution_count": null,
   "metadata": {},
   "outputs": [],
   "source": [
    "fig.write_html(\"passengers.html\")"
   ]
  },
  {
   "cell_type": "markdown",
   "metadata": {},
   "source": [
    "Another interesting consequence of the COVID-19 crisis can be observed in the taxi trip distances. It was common among the NYC citicens to use taxis as a regular way of transport for everyday commuting. After the COVID-19 lockdown it looks like the public became more aware of the danger of unnecessary exposure, therefore using taxis only for the most necessary trips. This translates in an increase of the mean trip distances per day, specially during May, when NYC registered one of its highest peaks in COVID-19 confirmed cases. Two other noticeables spikes can also be seen at the end of the year, around Thanksgiving (26 November) and Christmas (24 December)."
   ]
  },
  {
   "cell_type": "code",
   "execution_count": null,
   "metadata": {},
   "outputs": [],
   "source": [
    "df_2020[\"trip_distance\"] = df_2020[\"trip_distance\"].astype(\"float\")\n",
    "\n",
    "# Trimming outliers\n",
    "df_2020[\"mileprice_ratio\"] = df_2020[\"trip_distance\"]/df_2020[\"total_amount\"]\n",
    "df_2020 = df_2020[df_2020[\"mileprice_ratio\"]<0.4]\n",
    "\n",
    "df_dist=df_2020.groupby(\"date\", as_index=False).mean()[[\"date\", \"trip_distance\"]]\n",
    "df_dist.columns = [\"date\",\"mean_trip_distance\"]\n",
    "\n",
    "fig = go.Figure()\n",
    "fig.add_trace(go.Scatter(x=df_dist[\"date\"], y=df_dist[\"mean_trip_distance\"],\n",
    "                    mode='lines', name=\"Mean trip distance (miles)\",line=dict(color=\"#FFBF00\"),hovertemplate =\n",
    "    '<b></b> %{y}'))\n",
    "fig.add_trace(go.Scatter(x=df_covid[\"week_ending\"], y=df_covid[\"NUM_PEOP_POS\"],\n",
    "                    mode='lines+markers', name=\"COVID-19 confirmed cases\", yaxis=\"y2\",hovertemplate =\n",
    "    '<b></b> %{y}',line =dict(color=\"#32cd32\")))\n",
    "\n",
    "fig.update_layout(height=700, width=1000,  showlegend=False,\n",
    "                  yaxis=dict(\n",
    "        title=\"Mean trip distance(miles) per day\",\n",
    "        titlefont=dict(\n",
    "            color=\"#1f77b4\"\n",
    "        ),\n",
    "        tickfont=dict(\n",
    "            color=\"#1f77b4\"\n",
    "        )),\n",
    "                yaxis2=dict(\n",
    "        title=\"Confirmed COVID-19 cases in NYC\",\n",
    "        titlefont=dict(\n",
    "            color=\"#32cd32\"\n",
    "        ),\n",
    "        tickfont=dict(\n",
    "            color=\"#32cd32\"\n",
    "        ),\n",
    "        anchor=\"x\",\n",
    "        overlaying=\"y\",\n",
    "        side=\"right\"\n",
    "        ))          \n",
    "fig.update_layout(hovermode='x unified', height=500, width=800)  \n",
    "fig.update_xaxes(range=(\"2020-01-01\",\"2020-12-31\"))\n",
    "fig.update_layout(plot_bgcolor=\"#f3f3fb\")\n",
    "fig.update_layout(paper_bgcolor=\"#f4f4f4\")\n",
    "fig.show()"
   ]
  },
  {
   "cell_type": "code",
   "execution_count": null,
   "metadata": {},
   "outputs": [],
   "source": [
    "fig.write_html(\"tripdistance.html\")"
   ]
  },
  {
   "cell_type": "markdown",
   "metadata": {},
   "source": [
    "# Taxi dropoffs"
   ]
  },
  {
   "cell_type": "markdown",
   "metadata": {},
   "source": [
    "## Before COVID19"
   ]
  },
  {
   "cell_type": "markdown",
   "metadata": {},
   "source": [
    " Due to 2020 COVID-19 pandemic lockdown, the transport sector was greatly affected. Many jobs that were previously done in office were translated into remote work. For this section we will be using folium Choropleth. We first have to pull the geojson file and then write the number of taxi pickups on the geojson file. With this geojson file we can display hover information on the choropleth using folium GeoJsonToolTip."
   ]
  },
  {
   "cell_type": "code",
   "execution_count": null,
   "metadata": {},
   "outputs": [],
   "source": [
    "df_2020_group = df_2020[df_2020[\"Month\"]<4].groupby(\"DOLocationID\").count()[\"payment_type\"]\n",
    "df_2020_group.columns = [\"counts\"]\n",
    "\n",
    "with open(\"zones.geojson\",\"r\") as f:\n",
    "    data = json.loads(f.read())\n",
    "\n",
    "count_dict=df_2020_group.to_dict()\n",
    "\n",
    "for i in range(len(count_dict)):\n",
    "    try:\n",
    "        data['features'][i]['properties']['Taxi dropoffs'] = count_dict[i+1]\n",
    "    except:\n",
    "        pass\n",
    "# Saving the modified GeoJson with the dropoffs counts\n",
    "json.dump(data,open(\"countzones_precovid.geojson\", \"w\"))"
   ]
  },
  {
   "cell_type": "code",
   "execution_count": null,
   "metadata": {},
   "outputs": [],
   "source": [
    "df_2020_group = df_2020[df_2020[\"Month\"]<4].groupby(\"DOLocationID\", as_index=False).count()[[\"DOLocationID\", \"payment_type\"]]\n",
    "df_2020_group.columns = [\"DOLocationID\", \"counts\"]\n",
    "df_2020_group[\"DOLocationID\"] = df_2020_group[\"DOLocationID\"].astype(str)\n",
    "df_2020_group[\"counts\"]=df_2020_group[\"counts\"]/1000"
   ]
  },
  {
   "cell_type": "code",
   "execution_count": null,
   "metadata": {},
   "outputs": [],
   "source": [
    "import json\n",
    "\n",
    "#nycmap = \"https://raw.githubusercontent.com/fedhere/PUI2015_EC/master/mam1612_EC/nyc-zip-code-tabulation-areas-polygons.geojson\"\n",
    "nycmap = \"countzones_precovid.geojson\"\n",
    "NYC_map = folium.Map([40.730610, -73.935242], zoom_start=11, tiles='Stamen Toner')\n",
    "\n",
    "tiles = ['stamentoner','cartodbpositron','openstreetmap','stamenterrain']\n",
    "for tile in tiles:\n",
    "    folium.TileLayer(tile).add_to(NYC_map)\n",
    "    \n",
    "choropleth=folium.Choropleth(\n",
    "    geo_data=nycmap,\n",
    "    data = df_2020_group,\n",
    "    bins = 6,\n",
    "    columns = [\"DOLocationID\", \"counts\"],\n",
    "    key_on = \"feature.properties.LocationID\",\n",
    "    fill_color=\"YlOrRd\",\n",
    "    legend_name=\"Number of dropoffs (in thousands)\",\n",
    "    nan_fill_color=\"gray\",\n",
    "    name= \"Taxi dropoffs per zone (PRE-COVID19)\",\n",
    "    highlight=True\n",
    ").add_to(NYC_map)\n",
    "\n",
    "\n",
    "# add labels indicating the name of the district\n",
    "#style_function = \"font-size: 15px; font-weight: bold\"\n",
    "#choropleth.geojson.add_child(\n",
    "#    folium.features.GeoJsonTooltip(['zone'], style=style_function, labels=False))\n",
    "\n",
    "style_function = lambda x: {'fillColor': '#ffffff', \n",
    "                            'color':'#000000', \n",
    "                            'fillOpacity': 0.1, \n",
    "                            'weight': 0.1}\n",
    "highlight_function = lambda x: {'fillColor': '#000000', \n",
    "                                'color':'#000000', \n",
    "                                'fillOpacity': 0.50, \n",
    "                                'weight': 0.1}\n",
    "\n",
    "NIL = folium.features.GeoJson(\n",
    "    nycmap,\n",
    "    style_function=style_function, \n",
    "    control=False,\n",
    "    highlight_function=highlight_function, \n",
    "    tooltip=folium.features.GeoJsonTooltip(\n",
    "        fields=['zone', \"Taxi dropoffs\"],\n",
    "        localize=True,\n",
    "        style=(\"background-color: white; color: #333333; font-weight: bold; font-size: 15px; padding: 10px;\") ,\n",
    "        labels=False\n",
    "    )\n",
    ")\n",
    "NYC_map.add_child(NIL)\n",
    "NYC_map.keep_in_front(NIL)\n",
    "\n",
    "\n",
    "# create a layer control\n",
    "folium.LayerControl().add_to(NYC_map)\n",
    "\n",
    "NYC_map"
   ]
  },
  {
   "cell_type": "code",
   "execution_count": null,
   "metadata": {},
   "outputs": [],
   "source": [
    "NYC_map.save(\"NYC_map_precovid.html\")"
   ]
  },
  {
   "cell_type": "markdown",
   "metadata": {},
   "source": [
    "## After COVID19"
   ]
  },
  {
   "cell_type": "code",
   "execution_count": null,
   "metadata": {},
   "outputs": [],
   "source": [
    "df_2020_group = df_2020[df_2020[\"Month\"]>3].groupby(\"DOLocationID\").count()[\"payment_type\"]\n",
    "df_2020_group.columns = [\"counts\"]\n",
    "\n",
    "with open(\"zones.geojson\",\"r\") as f:\n",
    "    data = json.loads(f.read())\n",
    "\n",
    "count_dict=df_2020_group.to_dict()\n",
    "\n",
    "for i in range(len(count_dict)):\n",
    "    try:\n",
    "        data['features'][i]['properties']['Taxi dropoffs'] = count_dict[i+1]\n",
    "    except:\n",
    "        pass\n",
    "\n",
    "json.dump(data,open(\"countzones_poscovid.geojson\", \"w\"))"
   ]
  },
  {
   "cell_type": "code",
   "execution_count": null,
   "metadata": {},
   "outputs": [],
   "source": [
    "df_2020_group_pos = df_2020[(df_2020[\"Month\"]>3)].groupby(\"DOLocationID\", as_index=False).count()[[\"DOLocationID\", \"payment_type\"]]\n",
    "df_2020_group_pos.columns = [\"DOLocationID\", \"counts\"]\n",
    "df_2020_group_pos[\"DOLocationID\"] = df_2020_group_pos[\"DOLocationID\"].astype(str)\n",
    "df_2020_group_pos[\"counts\"]=df_2020_group_pos[\"counts\"]/1000"
   ]
  },
  {
   "cell_type": "code",
   "execution_count": null,
   "metadata": {},
   "outputs": [],
   "source": [
    "import json\n",
    "#nycmap = \"https://raw.githubusercontent.com/fedhere/PUI2015_EC/master/mam1612_EC/nyc-zip-code-tabulation-areas-polygons.geojson\"\n",
    "nycmap = \"countzones_poscovid.geojson\"\n",
    "NYC_map = folium.Map([40.730610, -73.935242], zoom_start=11, tiles='Stamen Toner')\n",
    "\n",
    "tiles = ['stamentoner','cartodbpositron','openstreetmap','stamenterrain']\n",
    "for tile in tiles:\n",
    "    folium.TileLayer(tile).add_to(NYC_map)\n",
    "    \n",
    "choropleth=folium.Choropleth(\n",
    "    geo_data=nycmap,\n",
    "    data = df_2020_group_pos,\n",
    "    columns = [\"DOLocationID\", \"counts\"],\n",
    "    key_on = \"feature.properties.LocationID\",\n",
    "    fill_color=\"YlGn\",\n",
    "    bins = 6,\n",
    "    legend_name=\"Number of dropoffs (in thousands)\",\n",
    "    nan_fill_color=\"gray\",\n",
    "    name= \"Taxi dropoffs per zone (POS-COVID19)\",\n",
    "    highlight=True\n",
    ").add_to(NYC_map)\n",
    "\n",
    "# add labels indicating the name of the district\n",
    "#style_function = \"font-size: 15px; font-weight: bold\"\n",
    "#choropleth.geojson.add_child(\n",
    "#    folium.features.GeoJsonTooltip(['zone'], style=style_function, labels=False))\n",
    "\n",
    "style_function = lambda x: {'fillColor': '#ffffff', \n",
    "                            'color':'#000000', \n",
    "                            'fillOpacity': 0.1, \n",
    "                            'weight': 0.1}\n",
    "highlight_function = lambda x: {'fillColor': '#000000', \n",
    "                                'color':'#000000', \n",
    "                                'fillOpacity': 0.50, \n",
    "                                'weight': 0.1}\n",
    "\n",
    "NIL = folium.features.GeoJson(\n",
    "    nycmap,\n",
    "    style_function=style_function, \n",
    "    control=False,\n",
    "    highlight_function=highlight_function, \n",
    "    tooltip=folium.features.GeoJsonTooltip(\n",
    "        fields=['zone', 'Taxi dropoffs'],\n",
    "        localize=True,\n",
    "        style=(\"background-color: white; color: #333333; font-weight: bold; font-size: 15px; padding: 10px;\") ,\n",
    "        labels=False\n",
    "    )\n",
    ")\n",
    "NYC_map.add_child(NIL)\n",
    "NYC_map.keep_in_front(NIL)\n",
    "\n",
    "# create a layer control\n",
    "folium.LayerControl().add_to(NYC_map)\n",
    "\n",
    "NYC_map"
   ]
  },
  {
   "cell_type": "code",
   "execution_count": null,
   "metadata": {},
   "outputs": [],
   "source": [
    "NYC_map.save(\"NYC_map_poscovid.html\")"
   ]
  },
  {
   "cell_type": "markdown",
   "metadata": {},
   "source": [
    "## Merging both together"
   ]
  },
  {
   "cell_type": "markdown",
   "metadata": {},
   "source": [
    "Joining both together with folium DualMap. For customizing both legends we will be using branca colormap, which is the same library folium uses as default but for the case of the DualMap it has to be manually tuned."
   ]
  },
  {
   "cell_type": "code",
   "execution_count": null,
   "metadata": {},
   "outputs": [],
   "source": [
    "import json\n",
    "from folium.plugins import StripePattern\n",
    "import branca.colormap as cm\n",
    "\n",
    "#nycmap = \"https://raw.githubusercontent.com/fedhere/PUI2015_EC/master/mam1612_EC/nyc-zip-code-tabulation-areas-polygons.geojson\"\n",
    "nycmap = \"countzones_precovid.geojson\"\n",
    "NYC_map = folium.plugins.DualMap([40.730610, -73.935242], zoom_start=11, tiles='Stamen Toner')\n",
    "\n",
    "tiles = ['stamentoner','cartodbpositron','openstreetmap','stamenterrain']\n",
    "for tile in tiles:\n",
    "    folium.TileLayer(tile).add_to(NYC_map)\n",
    "    \n",
    "layer1=folium.features.Choropleth(\n",
    "    geo_data=nycmap,\n",
    "    data = df_2020_group,\n",
    "    bins = 6,\n",
    "    columns = [\"DOLocationID\", \"counts\"],\n",
    "    key_on = \"feature.properties.LocationID\",\n",
    "    fill_color=\"YlOrRd\",\n",
    "    legend_name=\"Number of dropoffs (in thousands)\",\n",
    "    nan_fill_color=\"gray\",\n",
    "    name= \"Taxi dropoffs per zone (PRE-COVID19)\",\n",
    "    highlight=True\n",
    ")\n",
    "\n",
    "\n",
    "# add labels indicating the name of the district\n",
    "#style_function = \"font-size: 15px; font-weight: bold\"\n",
    "#choropleth.geojson.add_child(\n",
    "#    folium.features.GeoJsonTooltip(['zone'], style=style_function, labels=False))\n",
    "\n",
    "style_function = lambda x: {'fillColor': '#ffffff', \n",
    "                            'color':'#000000', \n",
    "                            'fillOpacity': 0.1, \n",
    "                            'weight': 0.1}\n",
    "highlight_function = lambda x: {'fillColor': '#000000', \n",
    "                                'color':'#000000', \n",
    "                                'fillOpacity': 0.50, \n",
    "                                'weight': 0.1}\n",
    "\n",
    "NIL = folium.features.GeoJson(\n",
    "    nycmap,\n",
    "    style_function=style_function, \n",
    "    control=False,\n",
    "    highlight_function=highlight_function, \n",
    "    tooltip=folium.features.GeoJsonTooltip(\n",
    "        fields=['zone', \"Taxi dropoffs\"],\n",
    "        localize=True,\n",
    "        style=(\"background-color: white; color: #333333; font-weight: bold; font-size: 15px; padding: 10px;\") ,\n",
    "        labels=True\n",
    "    )\n",
    ")\n",
    "\n",
    "\n",
    "fg_1= folium.FeatureGroup(name='Taxi dropoffs per zone (PRE-COVID19)').add_to(NYC_map.m1)\n",
    "layer1.geojson.add_to(fg_1)\n",
    "\n",
    "fg_1.add_to(NYC_map.m1)\n",
    "NYC_map.m1.add_child(NIL)\n",
    "NYC_map.m1.keep_in_front(NIL)\n",
    "\n",
    "########### Poscovid\n",
    "nycmap = \"countzones_poscovid.geojson\"\n",
    "\n",
    "layer2=folium.features.Choropleth(\n",
    "    geo_data=nycmap,\n",
    "    data = df_2020_group_pos,\n",
    "    bins = 6,\n",
    "    columns = [\"DOLocationID\", \"counts\"],\n",
    "    key_on = \"feature.properties.LocationID\",\n",
    "    fill_color=\"BuGn\",\n",
    "    legend_name=\"Number of dropoffs (in thousands)\",\n",
    "    nan_fill_color=\"gray\",\n",
    "    name= \"Taxi dropoffs per zone (PRE-COVID19)\",\n",
    "    highlight=True\n",
    ")\n",
    "\n",
    "\n",
    "# add labels indicating the name of the district\n",
    "#style_function = \"font-size: 15px; font-weight: bold\"\n",
    "#choropleth.geojson.add_child(\n",
    "#    folium.features.GeoJsonTooltip(['zone'], style=style_function, labels=False))\n",
    "\n",
    "style_function = lambda x: {'fillColor': '#ffffff', \n",
    "                            'color':'#000000', \n",
    "                            'fillOpacity': 0.1, \n",
    "                            'weight': 0.1}\n",
    "highlight_function = lambda x: {'fillColor': '#000000', \n",
    "                                'color':'#000000', \n",
    "                                'fillOpacity': 0.50, \n",
    "                                'weight': 0.1}\n",
    "\n",
    "NIL = folium.features.GeoJson(\n",
    "    nycmap,\n",
    "    style_function=style_function, \n",
    "    control=False,\n",
    "    highlight_function=highlight_function, \n",
    "    tooltip=folium.features.GeoJsonTooltip(\n",
    "        fields=['zone', \"Taxi dropoffs\"],\n",
    "        localize=True,\n",
    "        style=(\"background-color: white; color: #333333; font-weight: bold; font-size: 15px; padding: 10px;\") ,\n",
    "        labels=True\n",
    "    )\n",
    ")\n",
    "\n",
    "\n",
    "fg_2= folium.FeatureGroup(name='Taxi dropoffs per zone (POS-COVID19)').add_to(NYC_map.m2)\n",
    "layer2.geojson.add_to(fg_2)\n",
    "\n",
    "fg_2.add_to(NYC_map.m2)\n",
    "NYC_map.m2.add_child(NIL)\n",
    "NYC_map.m2.keep_in_front(NIL)\n",
    "\n",
    "# add Layer control to Dual basemapa\n",
    "# add legend for layer 1\n",
    "folium.LayerControl(collapsed=True).add_to(NYC_map)\n",
    "colormap_1= cm.linear.YlOrRd_06.scale(0,694)\n",
    "colormap_1= colormap_1.to_step(index=[0,116,231,347,463,578,694])\n",
    "colormap_1.caption= 'Taxi dropoffs per zone (PRE-COVID19) in thousands'\n",
    "colormap_1.add_to(NYC_map.m1)\n",
    "# add legend for layer 2\n",
    "colormap_2= cm.linear.BuGn_06.scale(0,422)\n",
    "colormap_2= colormap_2.to_step(index=[0,70,141,211,281,351,422])\n",
    "colormap_2.caption= 'Taxi dropoffs per zone (POS-COVID19) in thousands'\n",
    "colormap_2.add_to(NYC_map.m2)\n",
    "\n",
    "#Add fullscreen widget\n",
    "#Only shows the legend in one of the frames\n",
    "folium.plugins.Fullscreen(\n",
    "position='topright',\n",
    "title='Expand me',\n",
    "title_cancel='Exit me',\n",
    "force_separate_button=True\n",
    ").add_to(NYC_map)\n",
    "\n",
    "NYC_map"
   ]
  },
  {
   "cell_type": "code",
   "execution_count": null,
   "metadata": {},
   "outputs": [],
   "source": [
    "NYC_map.save(\"NYC_map_joined.html\")"
   ]
  },
  {
   "cell_type": "markdown",
   "metadata": {},
   "source": [
    "# Comments & Improvements"
   ]
  },
  {
   "cell_type": "markdown",
   "metadata": {},
   "source": [
    "1. 2020 Taxi dataset did not have the coordinates for pickups and dropoffs, it only contained two columns concerning the district the taxi trips where engaged and finished. Therefore the only way of doing a geoplot was by implementing a Choropleth.\n",
    "\n",
    "2. Folium Choropleth legend was a bit buggy. Most of this is due to technical limitations caused by branca library. There is an open issue on its Github repo concerning this.\n",
    "\n",
    "3. Socrata client does not always allows pulling the entire dataset. The analysis was made by downloading the full dataset for the year 2020."
   ]
  }
 ],
 "metadata": {
  "kernelspec": {
   "display_name": "Python 3",
   "language": "python",
   "name": "python3"
  },
  "language_info": {
   "codemirror_mode": {
    "name": "ipython",
    "version": 3
   },
   "file_extension": ".py",
   "mimetype": "text/x-python",
   "name": "python",
   "nbconvert_exporter": "python",
   "pygments_lexer": "ipython3",
   "version": "3.8.3"
  }
 },
 "nbformat": 4,
 "nbformat_minor": 4
}
